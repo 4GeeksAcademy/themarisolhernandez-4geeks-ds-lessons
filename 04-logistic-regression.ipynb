{
 "cells": [
  {
   "cell_type": "markdown",
   "metadata": {},
   "source": [
    "# Logistic Regression\n",
    "<span style=\"font-size: 12px;\">By: Marisol Hernandez</span>\n",
    "\n",
    "## 1. Introduction to Logistic Regression\n",
    "**Logistic regression** is a fundamental statistical technique used for <u>binary classification problems</u>. While its name contains \"regression,\" it's important to note that logistic regression is primarily used for classification, not regression tasks.\n",
    "\n",
    "### Comparison to Linear Regression\n",
    "**Linear regression**, another widely-used statistical technique, predicts <u>continuous values</u> based on input features by fitting a linear equation to the observed data. \n",
    "\n",
    "In contrast, **logistic regression** predicts the probability that an instance belongs to a particular class.\n",
    "\n",
    "### Applications:\n",
    "- **Medical Diagnosis:** Logistic regression is used in healthcare for tasks such as predicting whether a patient has a particular disease based on symptoms or risk factors. For example, it can be used to predict the likelihood of a patient having cancer based on medical test results.\n",
    "\n",
    "- **Credit Scoring:** In finance, logistic regression is employed for credit scoring to assess the likelihood of a borrower defaulting on a loan. By analyzing features such as credit history, income, and debt-to-income ratio, logistic regression models can help financial institutions make informed lending decisions.\n",
    "\n",
    "- **Natural Language Processing (NLP):** In NLP, logistic regression is used for tasks such as sentiment analysis, spam detection, and text classification. By analyzing textual features, logistic regression models can classify documents or messages into predefined categories.\n",
    "\n",
    "## 2. Mathematical Background\n",
    "Understanding the mathematical foundations of logistic regression is essential for grasping how the algorithm works. In this section, we'll delve into the key mathematical concepts behind logistic regression, including the logistic function, the hypothesis function, and the cost function."
   ]
  },
  {
   "cell_type": "markdown",
   "metadata": {},
   "source": []
  }
 ],
 "metadata": {
  "language_info": {
   "name": "python"
  }
 },
 "nbformat": 4,
 "nbformat_minor": 2
}
